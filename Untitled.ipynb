{
 "cells": [
  {
   "cell_type": "code",
   "execution_count": 1,
   "metadata": {},
   "outputs": [],
   "source": [
    "import pymysql\n",
    "import mysql.connector"
   ]
  },
  {
   "cell_type": "code",
   "execution_count": 25,
   "metadata": {},
   "outputs": [
    {
     "name": "stdout",
     "output_type": "stream",
     "text": [
      "('ぶどう', 50)\n",
      "('りんご', 50)\n",
      "('いちご', 100)\n",
      "('バナナ', 100)\n",
      "('みかん', 100)\n",
      "('バナナ', 100)\n",
      "('みかん', 100)\n",
      "('いちご', 100)\n"
     ]
    }
   ],
   "source": [
    "# establishing the connection\n",
    "conn = mysql.connector.connect(user='root', password='kuroki0731',\n",
    "                              host='127.0.0.1', database='test')\n",
    "\n",
    "#Creating a cursor object using the cursor() method\n",
    "cursor = conn.cursor()\n",
    "\n",
    "#Dropping EMPLOYEE table if already exists.\n",
    "cursor.execute(\"DROP TABLE IF EXISTS EMPLOYEE\")\n",
    "\n",
    "#Creating table as per requirement\n",
    "sql ='''\n",
    "SELECT P1.name, P1.price \n",
    "  FROM Products P1 INNER JOIN Products P2 \n",
    "    ON P1.price = P2.price \n",
    "   AND P1.name <> P2.name\n",
    " ORDER BY P1.price;\n",
    "'''\n",
    "cursor.execute(sql)\n",
    "for row in cursor:\n",
    "    print(row)\n",
    "\n",
    "#Closing the connection\n",
    "conn.close()"
   ]
  },
  {
   "cell_type": "code",
   "execution_count": null,
   "metadata": {},
   "outputs": [],
   "source": []
  },
  {
   "cell_type": "code",
   "execution_count": 16,
   "metadata": {},
   "outputs": [],
   "source": [
    "#establishing the connection\n",
    "conn = mysql.connector.connect(user='root', password='kuroki0731',\n",
    "                              host='127.0.0.1', database='test',\n",
    "                              auth_plugin='mysql_native_password')\n",
    "\n",
    "#Creating a cursor object using the cursor() method\n",
    "cursor = conn.cursor()\n",
    "\n",
    "#Dropping EMPLOYEE table if already exists.\n",
    "cursor.execute(\"DROP TABLE IF EXISTS EMPLOYEE\")\n",
    "\n",
    "#Creating table as per requirement\n",
    "sql ='''\n",
    "INSERT INTO PopTbl VALUES('熊本', 100);\n",
    "'''\n",
    "cursor.execute(sql)\n",
    "conn.commit()\n",
    "#Closing the connection\n",
    "conn.close()"
   ]
  },
  {
   "cell_type": "code",
   "execution_count": 3,
   "metadata": {},
   "outputs": [
    {
     "ename": "MySQLInterfaceError",
     "evalue": "Commands out of sync; you can't run this command now",
     "output_type": "error",
     "traceback": [
      "\u001b[0;31m---------------------------------------------------------------------------\u001b[0m",
      "\u001b[0;31mMySQLInterfaceError\u001b[0m                       Traceback (most recent call last)",
      "\u001b[0;32m<ipython-input-3-8f7c4fb539bd>\u001b[0m in \u001b[0;36m<module>\u001b[0;34m\u001b[0m\n\u001b[1;32m     30\u001b[0m '''\n\u001b[1;32m     31\u001b[0m \u001b[0mcursor2\u001b[0m\u001b[0;34m.\u001b[0m\u001b[0mexecute\u001b[0m\u001b[0;34m(\u001b[0m\u001b[0msql2\u001b[0m\u001b[0;34m)\u001b[0m\u001b[0;34m\u001b[0m\u001b[0;34m\u001b[0m\u001b[0m\n\u001b[0;32m---> 32\u001b[0;31m \u001b[0mconn2\u001b[0m\u001b[0;34m.\u001b[0m\u001b[0mcommit\u001b[0m\u001b[0;34m(\u001b[0m\u001b[0;34m)\u001b[0m\u001b[0;34m\u001b[0m\u001b[0;34m\u001b[0m\u001b[0m\n\u001b[0m\u001b[1;32m     33\u001b[0m \u001b[0;31m#Closing the connection\u001b[0m\u001b[0;34m\u001b[0m\u001b[0;34m\u001b[0m\u001b[0;34m\u001b[0m\u001b[0m\n\u001b[1;32m     34\u001b[0m \u001b[0mconn\u001b[0m\u001b[0;34m.\u001b[0m\u001b[0mclose\u001b[0m\u001b[0;34m(\u001b[0m\u001b[0;34m)\u001b[0m\u001b[0;34m\u001b[0m\u001b[0;34m\u001b[0m\u001b[0m\n",
      "\u001b[0;32m~/.pyenv/versions/anaconda3-2019.10/lib/python3.7/site-packages/mysql/connector/connection_cext.py\u001b[0m in \u001b[0;36mcommit\u001b[0;34m(self)\u001b[0m\n\u001b[1;32m    398\u001b[0m         \u001b[0;34m\"\"\"Commit current transaction\"\"\"\u001b[0m\u001b[0;34m\u001b[0m\u001b[0;34m\u001b[0m\u001b[0m\n\u001b[1;32m    399\u001b[0m         \u001b[0;32mif\u001b[0m \u001b[0mself\u001b[0m\u001b[0;34m.\u001b[0m\u001b[0m_cmysql\u001b[0m\u001b[0;34m:\u001b[0m\u001b[0;34m\u001b[0m\u001b[0;34m\u001b[0m\u001b[0m\n\u001b[0;32m--> 400\u001b[0;31m             \u001b[0mself\u001b[0m\u001b[0;34m.\u001b[0m\u001b[0m_cmysql\u001b[0m\u001b[0;34m.\u001b[0m\u001b[0mcommit\u001b[0m\u001b[0;34m(\u001b[0m\u001b[0;34m)\u001b[0m\u001b[0;34m\u001b[0m\u001b[0;34m\u001b[0m\u001b[0m\n\u001b[0m\u001b[1;32m    401\u001b[0m \u001b[0;34m\u001b[0m\u001b[0m\n\u001b[1;32m    402\u001b[0m     \u001b[0;32mdef\u001b[0m \u001b[0mrollback\u001b[0m\u001b[0;34m(\u001b[0m\u001b[0mself\u001b[0m\u001b[0;34m)\u001b[0m\u001b[0;34m:\u001b[0m\u001b[0;34m\u001b[0m\u001b[0;34m\u001b[0m\u001b[0m\n",
      "\u001b[0;31mMySQLInterfaceError\u001b[0m: Commands out of sync; you can't run this command now"
     ]
    }
   ],
   "source": [
    "conn2 = mysql.connector.connect(user='root', password='kuroki0731',\n",
    "                              host='127.0.0.1', database='test',\n",
    "                              auth_plugin='mysql_native_password')\n",
    "cursor2 = conn2.cursor()\n",
    "cursor2.execute(\"DROP TABLE IF EXISTS PopTbl2\")\n",
    "\n",
    "sql2 = '''\n",
    "\n",
    "'''\n",
    "cursor2.execute(sql2)\n",
    "conn2.commit()\n",
    "#Closing the connection\n",
    "conn.close()"
   ]
  },
  {
   "cell_type": "code",
   "execution_count": null,
   "metadata": {},
   "outputs": [],
   "source": []
  }
 ],
 "metadata": {
  "kernelspec": {
   "display_name": "Python 3",
   "language": "python",
   "name": "python3"
  },
  "language_info": {
   "codemirror_mode": {
    "name": "ipython",
    "version": 3
   },
   "file_extension": ".py",
   "mimetype": "text/x-python",
   "name": "python",
   "nbconvert_exporter": "python",
   "pygments_lexer": "ipython3",
   "version": "3.7.4"
  }
 },
 "nbformat": 4,
 "nbformat_minor": 4
}
